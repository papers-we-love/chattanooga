{
 "cells": [
  {
   "cell_type": "code",
   "execution_count": 42,
   "metadata": {},
   "outputs": [],
   "source": [
    "intcode = [1,0,0,3,1,1,2,3,1,3,4,3,1,5,0,3,2,10,1,19,1,19,9,23,1,23,6,27,2,27,13,31,1,10,31,35,1,10,35,39,2,39,6,43,1,43,5,47,2,10,47,51,1,5,51,55,1,55,13,59,1,59,9,63,2,9,63,67,1,6,67,71,1,71,13,75,1,75,10,79,1,5,79,83,1,10,83,87,1,5,87,91,1,91,9,95,2,13,95,99,1,5,99,103,2,103,9,107,1,5,107,111,2,111,9,115,1,115,6,119,2,13,119,123,1,123,5,127,1,127,9,131,1,131,10,135,1,13,135,139,2,9,139,143,1,5,143,147,1,13,147,151,1,151,2,155,1,10,155,0,99,2,14,0,0]"
   ]
  },
  {
   "cell_type": "code",
   "execution_count": 52,
   "metadata": {},
   "outputs": [],
   "source": [
    "def FindInput(orig_code):\n",
    "        \n",
    "    for noun in list(range(100)):\n",
    "        for verb in list(range(noun+1)):\n",
    "            code = orig_code[:]\n",
    "            code[1] = noun\n",
    "            code[2] = verb\n",
    "            index = 0\n",
    "            code_executed = True\n",
    "\n",
    "            while True:\n",
    "                try:\n",
    "                    if code[index] == 1:\n",
    "                        code[code[index+3]] = code[code[index+1]] + code[code[index+2]]\n",
    "                        index += 4\n",
    "                    elif code[index] == 2:\n",
    "                        code[code[index+3]] = code[code[index+1]] * code[code[index+2]]\n",
    "                        index += 4\n",
    "                    elif code[index] == 99:\n",
    "                        break\n",
    "                    else:\n",
    "                        code_executed = False\n",
    "                        break\n",
    "                except:\n",
    "                    code_executed = False\n",
    "                    break\n",
    "                             \n",
    "            if code_executed and code[0] == 19690720:\n",
    "                print(\"Found it\")\n",
    "                return (noun,verb)\n",
    "        \n",
    "    print(\"And I still havn't found what I'm looking for...\")\n",
    "    return (\"Try\",\"Again\")"
   ]
  },
  {
   "cell_type": "code",
   "execution_count": 53,
   "metadata": {},
   "outputs": [
    {
     "name": "stdout",
     "output_type": "stream",
     "text": [
      "Found it\n"
     ]
    }
   ],
   "source": [
    "noun,verb = FindInput(intcode)"
   ]
  },
  {
   "cell_type": "code",
   "execution_count": 54,
   "metadata": {},
   "outputs": [
    {
     "data": {
      "text/plain": [
       "59"
      ]
     },
     "execution_count": 54,
     "metadata": {},
     "output_type": "execute_result"
    }
   ],
   "source": [
    "noun"
   ]
  },
  {
   "cell_type": "code",
   "execution_count": 55,
   "metadata": {},
   "outputs": [
    {
     "data": {
      "text/plain": [
       "36"
      ]
     },
     "execution_count": 55,
     "metadata": {},
     "output_type": "execute_result"
    }
   ],
   "source": [
    "verb"
   ]
  },
  {
   "cell_type": "code",
   "execution_count": null,
   "metadata": {},
   "outputs": [],
   "source": []
  }
 ],
 "metadata": {
  "kernelspec": {
   "display_name": "Python 3",
   "language": "python",
   "name": "python3"
  },
  "language_info": {
   "codemirror_mode": {
    "name": "ipython",
    "version": 3
   },
   "file_extension": ".py",
   "mimetype": "text/x-python",
   "name": "python",
   "nbconvert_exporter": "python",
   "pygments_lexer": "ipython3",
   "version": "3.7.3"
  }
 },
 "nbformat": 4,
 "nbformat_minor": 2
}
